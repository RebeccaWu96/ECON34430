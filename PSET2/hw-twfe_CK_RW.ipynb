{
 "cells": [
  {
   "cell_type": "markdown",
   "metadata": {},
   "source": [
    "# Homework on firm amenities\n",
    "\n",
    "By Clara Kyung and Rebecca Wu* \n",
    "\n",
    "*We thank Conroy Lau, Feng Lin, and Xianglong Kong for helpful discussion. All errors are our own. \n",
    "\n",
    "*28 October, 2021*"
   ]
  },
  {
   "cell_type": "markdown",
   "metadata": {},
   "source": [
    "## Preparing the environment"
   ]
  },
  {
   "cell_type": "code",
   "execution_count": 119,
   "metadata": {
    "ExecuteTime": {
     "end_time": "2021-09-30T09:43:19.912000-05:00",
     "start_time": "2021-09-30T14:43:16.348Z"
    },
    "jupyter": {
     "outputs_hidden": true
    },
    "scrolled": true
   },
   "outputs": [
    {
     "name": "stderr",
     "output_type": "stream",
     "text": [
      "\u001b[32m\u001b[1m  Activating\u001b[22m\u001b[39m environment at `~/Documents/GitHub/ECON34430/PSET2/Project.toml`\n",
      "\u001b[32m\u001b[1m   Resolving\u001b[22m\u001b[39m package versions...\n",
      "\u001b[32m\u001b[1m  No Changes\u001b[22m\u001b[39m to `~/Documents/GitHub/ECON34430/PSET2/Project.toml`\n",
      "\u001b[32m\u001b[1m  No Changes\u001b[22m\u001b[39m to `~/Documents/GitHub/ECON34430/PSET2/Manifest.toml`\n",
      "\u001b[32m\u001b[1m   Resolving\u001b[22m\u001b[39m package versions...\n",
      "\u001b[32m\u001b[1m  No Changes\u001b[22m\u001b[39m to `~/Documents/GitHub/ECON34430/PSET2/Project.toml`\n",
      "\u001b[32m\u001b[1m  No Changes\u001b[22m\u001b[39m to `~/Documents/GitHub/ECON34430/PSET2/Manifest.toml`\n",
      "\u001b[32m\u001b[1m   Resolving\u001b[22m\u001b[39m package versions...\n",
      "\u001b[32m\u001b[1m  No Changes\u001b[22m\u001b[39m to `~/Documents/GitHub/ECON34430/PSET2/Project.toml`\n",
      "\u001b[32m\u001b[1m  No Changes\u001b[22m\u001b[39m to `~/Documents/GitHub/ECON34430/PSET2/Manifest.toml`\n",
      "\u001b[32m\u001b[1m   Resolving\u001b[22m\u001b[39m package versions...\n",
      "\u001b[32m\u001b[1m  No Changes\u001b[22m\u001b[39m to `~/Documents/GitHub/ECON34430/PSET2/Project.toml`\n",
      "\u001b[32m\u001b[1m  No Changes\u001b[22m\u001b[39m to `~/Documents/GitHub/ECON34430/PSET2/Manifest.toml`\n",
      "\u001b[32m\u001b[1m   Resolving\u001b[22m\u001b[39m package versions...\n",
      "\u001b[32m\u001b[1m   Installed\u001b[22m\u001b[39m Distances ─ v0.10.6\n",
      "\u001b[32m\u001b[1m   Installed\u001b[22m\u001b[39m NLsolve ─── v4.5.1\n",
      "\u001b[32m\u001b[1m    Updating\u001b[22m\u001b[39m `~/Documents/GitHub/ECON34430/PSET2/Project.toml`\n",
      " \u001b[90m [2774e3e8] \u001b[39m\u001b[92m+ NLsolve v4.5.1\u001b[39m\n",
      "\u001b[32m\u001b[1m    Updating\u001b[22m\u001b[39m `~/Documents/GitHub/ECON34430/PSET2/Manifest.toml`\n",
      " \u001b[90m [b4f34e82] \u001b[39m\u001b[92m+ Distances v0.10.6\u001b[39m\n",
      " \u001b[90m [2774e3e8] \u001b[39m\u001b[92m+ NLsolve v4.5.1\u001b[39m\n",
      "\u001b[32m\u001b[1mPrecompiling\u001b[22m\u001b[39m project...\n",
      "\u001b[32m  ✓ \u001b[39m\u001b[90mDistances\u001b[39m\n",
      "\u001b[32m  ✓ \u001b[39mNLsolve\n",
      "  2 dependencies successfully precompiled in 3 seconds (160 already precompiled)\n"
     ]
    }
   ],
   "source": [
    "using Pkg\n",
    "Pkg.activate(\".\") # Create new environment in this folder\n",
    "\n",
    "Pkg.add([\"Distributions\",\"StatsBase\"])\n",
    "Pkg.add([\"DataFrames\",\"DataFramesMeta\",\"Chain\"])\n",
    "Pkg.add([\"Plots\",\"Random\",\"Missings\"])\n",
    "Pkg.add([\"ShiftedArrays\",\"CategoricalArrays\"])\n",
    "Pkg.add(\"NLsolve\")\n",
    "# Pkg.add([\"SparseArrays\",\"LightGraphs\"])\n",
    "\n",
    "\n",
    "# past the first time, you only need to instanciate the current folder\n",
    "Pkg.instantiate() # Updates packages given .toml file"
   ]
  },
  {
   "cell_type": "markdown",
   "metadata": {},
   "source": [
    "We then list our imports"
   ]
  },
  {
   "cell_type": "code",
   "execution_count": 300,
   "metadata": {
    "ExecuteTime": {
     "end_time": "2021-09-30T09:35:17.552000-05:00",
     "start_time": "2021-09-30T14:35:13.116Z"
    },
    "jupyter": {
     "outputs_hidden": true
    }
   },
   "outputs": [
    {
     "data": {
      "text/plain": [
       "MersenneTwister(1240)"
      ]
     },
     "execution_count": 300,
     "metadata": {},
     "output_type": "execute_result"
    }
   ],
   "source": [
    "using Distributions\n",
    "using LinearAlgebra\n",
    "using StatsBase\n",
    "using DataFrames\n",
    "using Plots\n",
    "using CategoricalArrays\n",
    "using ShiftedArrays\n",
    "using Random\n",
    "using Chain\n",
    "using DataFramesMeta\n",
    "using SparseArrays\n",
    "using NLsolve\n",
    "# using GLM\n",
    "\n",
    "global_seed = 1240\n",
    "Random.seed!(global_seed)"
   ]
  },
  {
   "cell_type": "markdown",
   "metadata": {},
   "source": [
    "## Constructing Employer-Employee matched data"
   ]
  },
  {
   "cell_type": "markdown",
   "metadata": {},
   "source": [
    "### Create a mobility matrix\n",
    "\n",
    "One central piece is to have a network of workers and firms over time. We start by simulating such an object. The rest of the homework will focus on adding wages to this model. As we know from the lectures, a central issue of the network will be the number of movers.\n",
    "\n",
    "We are going to model the mobility between workers and firms. Given a transition matrix we can solve for a stationary distribution, and then construct our panel from there."
   ]
  },
  {
   "cell_type": "code",
   "execution_count": 301,
   "metadata": {
    "ExecuteTime": {
     "end_time": "2021-09-30T09:41:17.437000-05:00",
     "start_time": "2021-09-30T14:41:17.319Z"
    },
    "scrolled": true
   },
   "outputs": [],
   "source": [
    "# The mobility matrix will be the same. \n",
    "# But this time we draw a joint normal distribution of (ψ_j, v_j, and f_j). \n",
    "\n",
    "ψ_mean = 0 \n",
    "v_mean = 0 \n",
    "f_mean = 0 # need to be non-negative, this is fixed later\n",
    "\n",
    "param_mean = [ψ_mean, v_mean, f_mean]\n",
    "\n",
    "ψ_sd = 1\n",
    "v_sd = 1\n",
    "f_sd = 1\n",
    "α_sd = 1\n",
    "\n",
    "ψv_cov = 0.5\n",
    "ψf_cov = 0.5 \n",
    "vf_cov = 0.5 \n",
    "\n",
    "param_cov = [ψ_sd ψv_cov ψf_cov; ψv_cov v_sd vf_cov; ψf_cov vf_cov f_sd]\n",
    "\n",
    "nk = 30  # types of firms \n",
    "nl = 10  # types of workers\n",
    "\n",
    "# Draw the firm parameters\n",
    "firm_param_temp = rand(MvNormal(param_mean, param_cov), nk*10)\n",
    "firm_param_temp = sortslices(firm_param_temp, dims = 2)\n",
    "firm_param = zeros(3, nk)\n",
    "for i in 1:nk\n",
    "    firm_param[:, i] = mean(firm_param_temp[:,10*(i-1)+1: 10*i], dims = 2)\n",
    "end\n",
    "ψ = firm_param[1,:] # firm effect\n",
    "α = quantile.(Normal(), (1:nl) / (nl + 1)) * ψ_sd # worker effect\n",
    "\n",
    "\n",
    "csort = 0.5 # Sorting effect\n",
    "# cnetw = 0.2 # We ignore network effect\n",
    "csig  = 0.5 # Cross-sectional standard deviation\n",
    "\n",
    "# Let's create type-specific transition matrices\n",
    "# We are going to use joint normals centered on different values\n",
    "G = zeros(nl, nk, nk)\n",
    "for l in 1:nl, k in 1:nk\n",
    "    # G[l, k, :] = pdf( Normal(0, csig), ψ .- cnetw * ψ[k] .- csort * α[l])\n",
    "    G[l, k, :] = pdf( Normal(0, csig), ψ .- csort * α[l])\n",
    "    G[l, k, :] = G[l, k, :] ./ sum(G[l, k, :])\n",
    "end\n",
    "\n",
    "# We then solve for the stationary distribution over psis for each alpha value\n",
    "# We apply a crude fixed point approach\n",
    "H = ones(nl, nk) ./ nk\n",
    "for l in 1:nl\n",
    "    M = transpose(G[l, :, :])\n",
    "    for i in 1:100\n",
    "        H[l, :] = M * H[l, :]\n",
    "    end\n",
    "end"
   ]
  },
  {
   "cell_type": "markdown",
   "metadata": {},
   "source": [
    "### Simulate a panel\n",
    "\n",
    "The next step is to simulate our network given our transition rules."
   ]
  },
  {
   "cell_type": "code",
   "execution_count": 302,
   "metadata": {
    "ExecuteTime": {
     "end_time": "2021-09-30T10:03:56.217000-05:00",
     "start_time": "2021-09-30T15:03:56.136Z"
    }
   },
   "outputs": [],
   "source": [
    "nt = 10\n",
    "ni = 10000\n",
    "\n",
    "# We simulate a balanced panel\n",
    "ii = repeat(1:ni, 1, nt)  # Worker ID\n",
    "ll = zeros(Int64, ni, nt) # Worker type\n",
    "kk = zeros(Int64, ni, nt) # Firm type\n",
    "spellcount = zeros(Int64, ni, nt) # Employment spell\n",
    "\n",
    "# Specify rules for moving \n",
    "κ = 0.02 # death rate \n",
    "v = firm_param[2,:] # total firm value (wage + non-wage components)\n",
    "exp_v = exp.(v)\n",
    "λ = 0.168  # exogenous probability of receiving an offer, independent of firm and individual (number taken from Sorkin Table III)\n",
    "\n",
    "# need to transform offer rate such that all values are positive and sum to 1 \n",
    "f = exp.(firm_param[3,:])./ sum(exp.(firm_param[3,:])) # offer arrival rate \n",
    "\n",
    "# individual and time specific logit variable \n",
    "μ = rand(Logistic(), ni, nt)\n",
    "\n",
    "for i in 1:ni\n",
    "    \n",
    "    # We draw the worker type\n",
    "    l = rand(1:nl)\n",
    "    ll[i,:] .= l\n",
    "    \n",
    "    # At time 1, we draw from H\n",
    "    kk[i,1] = sample(1:nk, Weights(H[l, :]))\n",
    "    \n",
    "    for t in 2:nt\n",
    "        if rand() < κ # dead \n",
    "            kk[i,t] = sample(1:nk, Weights(H[l, :])) # we re-draw from H (just as time 1)\n",
    "            ii[i,t] = ni + ii[i,t-1] # replace the old worker id with a new id assigned to the new worker \n",
    "            ll[i,t] = rand(1:nl) # draw a new worker type\n",
    "            spellcount[i,t] = 0 # reset spell\n",
    "        else # alive \n",
    "            ii[i,t] = ii[i, t-1] # keep the previous worker id for workers who are alive\n",
    "            \n",
    "            if rand() < λ # receive an outside offer \n",
    "                kk[i, t] = sample(1:nk, Weights(f)) # draw the firm which the offer comes from\n",
    "                \n",
    "                if v[kk[i,t-1]] < v[kk[i,t]] + μ[i,t] # the new firm is better - move to new firm\n",
    "                    spellcount[i,t] = spellcount[i,t-1] + 1\n",
    "                else # the old firm is better - stay \n",
    "                    kk[i,t] = kk[i,t-1] # keep old firm id \n",
    "                    spellcount[i,t] = spellcount[i,t-1] \n",
    "                end \n",
    "                \n",
    "            else # do not receive an outside offer \n",
    "                kk[i,t] = kk[i,t-1] # keep old firm id\n",
    "                spellcount[i,t] = spellcount[i,t-1]\n",
    "            end \n",
    "        end\n",
    "    end \n",
    "    \n",
    "end"
   ]
  },
  {
   "cell_type": "markdown",
   "metadata": {},
   "source": [
    "### Attach firm ids to types\n",
    "\n",
    "The final step is to assign identities to the firms. We are going to do this is a relatively simple way, by simply randomly assigning firm ids to spells."
   ]
  },
  {
   "cell_type": "code",
   "execution_count": 303,
   "metadata": {
    "ExecuteTime": {
     "end_time": "2021-09-30T10:37:50.925000-05:00",
     "start_time": "2021-09-30T15:37:50.860Z"
    }
   },
   "outputs": [],
   "source": [
    "firms_per_type = 15\n",
    "jj = zeros(Int64, ni, nt) # Firm identifiers\n",
    "\n",
    "draw_firm_from_type(k) = sample(1:firms_per_type) + (k - 1) * firms_per_type\n",
    "\n",
    "for i in 1:ni\n",
    "    \n",
    "    # extract firm type\n",
    "    k = kk[i,1]\n",
    "    \n",
    "    # We draw the firm (one of firms_per_type in given group)\n",
    "    jj[i,1] = draw_firm_from_type(k)\n",
    "    \n",
    "    for t in 2:nt\n",
    "        if spellcount[i,t] == spellcount[i,t-1] && ii[i,t] == ii[i, t-1] # we need both spell and worker id to be the same\n",
    "            # We keep the firm the same\n",
    "            jj[i,t] = jj[i,t-1]\n",
    "        else\n",
    "            # We draw a new firm\n",
    "            k = kk[i,t]\n",
    "            \n",
    "            new_j = draw_firm_from_type(k)            \n",
    "            # Make sure the new firm is actually new\n",
    "            while new_j == jj[i,t-1]\n",
    "                new_j = draw_firm_from_type(k)\n",
    "            end\n",
    "            \n",
    "            jj[i,t] = new_j\n",
    "        end\n",
    "    end\n",
    "end\n",
    "\n",
    "\n",
    "# Make sure firm and worker ids are contiguous\n",
    "contiguous_worker_ids = Dict( unique(ii) .=> 1:length(unique(ii))  )\n",
    "ii .= getindex.(Ref(contiguous_worker_ids),ii);\n",
    "contiguous_firm_ids = Dict( unique(jj) .=> 1:length(unique(jj))  )\n",
    "jj .= getindex.(Ref(contiguous_firm_ids),jj);"
   ]
  },
  {
   "cell_type": "code",
   "execution_count": 304,
   "metadata": {
    "ExecuteTime": {
     "end_time": "2021-09-30T10:40:50.656000-05:00",
     "start_time": "2021-09-30T15:40:50.636Z"
    }
   },
   "outputs": [
    {
     "data": {
      "text/html": [
       "<div class=\"data-frame\"><p>100,000 rows × 11 columns (omitted printing of 1 columns)</p><table class=\"data-frame\"><thead><tr><th></th><th>i</th><th>j</th><th>l</th><th>k</th><th>α</th><th>ψ</th><th>t</th><th>exp_v</th><th>f</th><th>spell</th></tr><tr><th></th><th title=\"Int64\">Int64</th><th title=\"Int64\">Int64</th><th title=\"Int64\">Int64</th><th title=\"Int64\">Int64</th><th title=\"Float64\">Float64</th><th title=\"Float64\">Float64</th><th title=\"Int64\">Int64</th><th title=\"Float64\">Float64</th><th title=\"Float64\">Float64</th><th title=\"Int64\">Int64</th></tr></thead><tbody><tr><th>1</th><td>1</td><td>1</td><td>3</td><td>8</td><td>-0.604585</td><td>-0.690609</td><td>1</td><td>0.601468</td><td>0.0226591</td><td>0</td></tr><tr><th>2</th><td>1</td><td>1</td><td>3</td><td>8</td><td>-0.604585</td><td>-0.690609</td><td>2</td><td>0.601468</td><td>0.0226591</td><td>0</td></tr><tr><th>3</th><td>1</td><td>89</td><td>3</td><td>6</td><td>-0.604585</td><td>-0.855096</td><td>3</td><td>0.939753</td><td>0.0114496</td><td>1</td></tr><tr><th>4</th><td>1</td><td>89</td><td>3</td><td>6</td><td>-0.604585</td><td>-0.855096</td><td>4</td><td>0.939753</td><td>0.0114496</td><td>1</td></tr><tr><th>5</th><td>1</td><td>89</td><td>3</td><td>6</td><td>-0.604585</td><td>-0.855096</td><td>5</td><td>0.939753</td><td>0.0114496</td><td>1</td></tr><tr><th>6</th><td>1</td><td>89</td><td>3</td><td>6</td><td>-0.604585</td><td>-0.855096</td><td>6</td><td>0.939753</td><td>0.0114496</td><td>1</td></tr><tr><th>7</th><td>1</td><td>89</td><td>3</td><td>6</td><td>-0.604585</td><td>-0.855096</td><td>7</td><td>0.939753</td><td>0.0114496</td><td>1</td></tr><tr><th>8</th><td>1</td><td>54</td><td>3</td><td>13</td><td>-0.604585</td><td>-0.227242</td><td>8</td><td>0.966957</td><td>0.0340834</td><td>2</td></tr><tr><th>9</th><td>1</td><td>54</td><td>3</td><td>13</td><td>-0.604585</td><td>-0.227242</td><td>9</td><td>0.966957</td><td>0.0340834</td><td>2</td></tr><tr><th>10</th><td>1</td><td>54</td><td>3</td><td>13</td><td>-0.604585</td><td>-0.227242</td><td>10</td><td>0.966957</td><td>0.0340834</td><td>2</td></tr><tr><th>11</th><td>2</td><td>2</td><td>1</td><td>17</td><td>-1.33518</td><td>0.0307912</td><td>1</td><td>1.05224</td><td>0.0195056</td><td>0</td></tr><tr><th>12</th><td>2</td><td>2</td><td>1</td><td>17</td><td>-1.33518</td><td>0.0307912</td><td>2</td><td>1.05224</td><td>0.0195056</td><td>0</td></tr><tr><th>13</th><td>2</td><td>2</td><td>1</td><td>17</td><td>-1.33518</td><td>0.0307912</td><td>3</td><td>1.05224</td><td>0.0195056</td><td>0</td></tr><tr><th>14</th><td>2</td><td>2</td><td>1</td><td>17</td><td>-1.33518</td><td>0.0307912</td><td>4</td><td>1.05224</td><td>0.0195056</td><td>0</td></tr><tr><th>15</th><td>2</td><td>2</td><td>1</td><td>17</td><td>-1.33518</td><td>0.0307912</td><td>5</td><td>1.05224</td><td>0.0195056</td><td>0</td></tr><tr><th>16</th><td>2</td><td>2</td><td>1</td><td>17</td><td>-1.33518</td><td>0.0307912</td><td>6</td><td>1.05224</td><td>0.0195056</td><td>0</td></tr><tr><th>17</th><td>2</td><td>2</td><td>1</td><td>17</td><td>-1.33518</td><td>0.0307912</td><td>7</td><td>1.05224</td><td>0.0195056</td><td>0</td></tr><tr><th>18</th><td>2</td><td>2</td><td>1</td><td>17</td><td>-1.33518</td><td>0.0307912</td><td>8</td><td>1.05224</td><td>0.0195056</td><td>0</td></tr><tr><th>19</th><td>2</td><td>2</td><td>1</td><td>17</td><td>-1.33518</td><td>0.0307912</td><td>9</td><td>1.05224</td><td>0.0195056</td><td>0</td></tr><tr><th>20</th><td>2</td><td>2</td><td>1</td><td>17</td><td>-1.33518</td><td>0.0307912</td><td>10</td><td>1.05224</td><td>0.0195056</td><td>0</td></tr><tr><th>21</th><td>3</td><td>3</td><td>8</td><td>24</td><td>0.604585</td><td>0.707718</td><td>1</td><td>1.14466</td><td>0.0419786</td><td>0</td></tr><tr><th>22</th><td>3</td><td>3</td><td>8</td><td>24</td><td>0.604585</td><td>0.707718</td><td>2</td><td>1.14466</td><td>0.0419786</td><td>0</td></tr><tr><th>23</th><td>3</td><td>285</td><td>8</td><td>15</td><td>0.604585</td><td>-0.0968453</td><td>3</td><td>1.61748</td><td>0.0484189</td><td>1</td></tr><tr><th>24</th><td>3</td><td>285</td><td>8</td><td>15</td><td>0.604585</td><td>-0.0968453</td><td>4</td><td>1.61748</td><td>0.0484189</td><td>1</td></tr><tr><th>25</th><td>3</td><td>285</td><td>8</td><td>15</td><td>0.604585</td><td>-0.0968453</td><td>5</td><td>1.61748</td><td>0.0484189</td><td>1</td></tr><tr><th>26</th><td>3</td><td>285</td><td>8</td><td>15</td><td>0.604585</td><td>-0.0968453</td><td>6</td><td>1.61748</td><td>0.0484189</td><td>1</td></tr><tr><th>27</th><td>3</td><td>285</td><td>8</td><td>15</td><td>0.604585</td><td>-0.0968453</td><td>7</td><td>1.61748</td><td>0.0484189</td><td>1</td></tr><tr><th>28</th><td>3</td><td>207</td><td>8</td><td>28</td><td>0.604585</td><td>1.2569</td><td>8</td><td>2.54215</td><td>0.0747771</td><td>2</td></tr><tr><th>29</th><td>3</td><td>207</td><td>8</td><td>28</td><td>0.604585</td><td>1.2569</td><td>9</td><td>2.54215</td><td>0.0747771</td><td>2</td></tr><tr><th>30</th><td>3</td><td>207</td><td>8</td><td>28</td><td>0.604585</td><td>1.2569</td><td>10</td><td>2.54215</td><td>0.0747771</td><td>2</td></tr><tr><th>&vellip;</th><td>&vellip;</td><td>&vellip;</td><td>&vellip;</td><td>&vellip;</td><td>&vellip;</td><td>&vellip;</td><td>&vellip;</td><td>&vellip;</td><td>&vellip;</td><td>&vellip;</td></tr></tbody></table></div>"
      ],
      "text/latex": [
       "\\begin{tabular}{r|ccccccccccc}\n",
       "\t& i & j & l & k & α & ψ & t & exp\\_v & f & spell & \\\\\n",
       "\t\\hline\n",
       "\t& Int64 & Int64 & Int64 & Int64 & Float64 & Float64 & Int64 & Float64 & Float64 & Int64 & \\\\\n",
       "\t\\hline\n",
       "\t1 & 1 & 1 & 3 & 8 & -0.604585 & -0.690609 & 1 & 0.601468 & 0.0226591 & 0 & $\\dots$ \\\\\n",
       "\t2 & 1 & 1 & 3 & 8 & -0.604585 & -0.690609 & 2 & 0.601468 & 0.0226591 & 0 & $\\dots$ \\\\\n",
       "\t3 & 1 & 89 & 3 & 6 & -0.604585 & -0.855096 & 3 & 0.939753 & 0.0114496 & 1 & $\\dots$ \\\\\n",
       "\t4 & 1 & 89 & 3 & 6 & -0.604585 & -0.855096 & 4 & 0.939753 & 0.0114496 & 1 & $\\dots$ \\\\\n",
       "\t5 & 1 & 89 & 3 & 6 & -0.604585 & -0.855096 & 5 & 0.939753 & 0.0114496 & 1 & $\\dots$ \\\\\n",
       "\t6 & 1 & 89 & 3 & 6 & -0.604585 & -0.855096 & 6 & 0.939753 & 0.0114496 & 1 & $\\dots$ \\\\\n",
       "\t7 & 1 & 89 & 3 & 6 & -0.604585 & -0.855096 & 7 & 0.939753 & 0.0114496 & 1 & $\\dots$ \\\\\n",
       "\t8 & 1 & 54 & 3 & 13 & -0.604585 & -0.227242 & 8 & 0.966957 & 0.0340834 & 2 & $\\dots$ \\\\\n",
       "\t9 & 1 & 54 & 3 & 13 & -0.604585 & -0.227242 & 9 & 0.966957 & 0.0340834 & 2 & $\\dots$ \\\\\n",
       "\t10 & 1 & 54 & 3 & 13 & -0.604585 & -0.227242 & 10 & 0.966957 & 0.0340834 & 2 & $\\dots$ \\\\\n",
       "\t11 & 2 & 2 & 1 & 17 & -1.33518 & 0.0307912 & 1 & 1.05224 & 0.0195056 & 0 & $\\dots$ \\\\\n",
       "\t12 & 2 & 2 & 1 & 17 & -1.33518 & 0.0307912 & 2 & 1.05224 & 0.0195056 & 0 & $\\dots$ \\\\\n",
       "\t13 & 2 & 2 & 1 & 17 & -1.33518 & 0.0307912 & 3 & 1.05224 & 0.0195056 & 0 & $\\dots$ \\\\\n",
       "\t14 & 2 & 2 & 1 & 17 & -1.33518 & 0.0307912 & 4 & 1.05224 & 0.0195056 & 0 & $\\dots$ \\\\\n",
       "\t15 & 2 & 2 & 1 & 17 & -1.33518 & 0.0307912 & 5 & 1.05224 & 0.0195056 & 0 & $\\dots$ \\\\\n",
       "\t16 & 2 & 2 & 1 & 17 & -1.33518 & 0.0307912 & 6 & 1.05224 & 0.0195056 & 0 & $\\dots$ \\\\\n",
       "\t17 & 2 & 2 & 1 & 17 & -1.33518 & 0.0307912 & 7 & 1.05224 & 0.0195056 & 0 & $\\dots$ \\\\\n",
       "\t18 & 2 & 2 & 1 & 17 & -1.33518 & 0.0307912 & 8 & 1.05224 & 0.0195056 & 0 & $\\dots$ \\\\\n",
       "\t19 & 2 & 2 & 1 & 17 & -1.33518 & 0.0307912 & 9 & 1.05224 & 0.0195056 & 0 & $\\dots$ \\\\\n",
       "\t20 & 2 & 2 & 1 & 17 & -1.33518 & 0.0307912 & 10 & 1.05224 & 0.0195056 & 0 & $\\dots$ \\\\\n",
       "\t21 & 3 & 3 & 8 & 24 & 0.604585 & 0.707718 & 1 & 1.14466 & 0.0419786 & 0 & $\\dots$ \\\\\n",
       "\t22 & 3 & 3 & 8 & 24 & 0.604585 & 0.707718 & 2 & 1.14466 & 0.0419786 & 0 & $\\dots$ \\\\\n",
       "\t23 & 3 & 285 & 8 & 15 & 0.604585 & -0.0968453 & 3 & 1.61748 & 0.0484189 & 1 & $\\dots$ \\\\\n",
       "\t24 & 3 & 285 & 8 & 15 & 0.604585 & -0.0968453 & 4 & 1.61748 & 0.0484189 & 1 & $\\dots$ \\\\\n",
       "\t25 & 3 & 285 & 8 & 15 & 0.604585 & -0.0968453 & 5 & 1.61748 & 0.0484189 & 1 & $\\dots$ \\\\\n",
       "\t26 & 3 & 285 & 8 & 15 & 0.604585 & -0.0968453 & 6 & 1.61748 & 0.0484189 & 1 & $\\dots$ \\\\\n",
       "\t27 & 3 & 285 & 8 & 15 & 0.604585 & -0.0968453 & 7 & 1.61748 & 0.0484189 & 1 & $\\dots$ \\\\\n",
       "\t28 & 3 & 207 & 8 & 28 & 0.604585 & 1.2569 & 8 & 2.54215 & 0.0747771 & 2 & $\\dots$ \\\\\n",
       "\t29 & 3 & 207 & 8 & 28 & 0.604585 & 1.2569 & 9 & 2.54215 & 0.0747771 & 2 & $\\dots$ \\\\\n",
       "\t30 & 3 & 207 & 8 & 28 & 0.604585 & 1.2569 & 10 & 2.54215 & 0.0747771 & 2 & $\\dots$ \\\\\n",
       "\t$\\dots$ & $\\dots$ & $\\dots$ & $\\dots$ & $\\dots$ & $\\dots$ & $\\dots$ & $\\dots$ & $\\dots$ & $\\dots$ & $\\dots$ &  \\\\\n",
       "\\end{tabular}\n"
      ],
      "text/plain": [
       "\u001b[1m100000×11 DataFrame\u001b[0m\n",
       "\u001b[1m    Row \u001b[0m│\u001b[1m i     \u001b[0m\u001b[1m j     \u001b[0m\u001b[1m l     \u001b[0m\u001b[1m k     \u001b[0m\u001b[1m α         \u001b[0m\u001b[1m ψ          \u001b[0m\u001b[1m t     \u001b[0m\u001b[1m exp_v    \u001b[0m\u001b[1m \u001b[0m ⋯\n",
       "\u001b[1m        \u001b[0m│\u001b[90m Int64 \u001b[0m\u001b[90m Int64 \u001b[0m\u001b[90m Int64 \u001b[0m\u001b[90m Int64 \u001b[0m\u001b[90m Float64   \u001b[0m\u001b[90m Float64    \u001b[0m\u001b[90m Int64 \u001b[0m\u001b[90m Float64  \u001b[0m\u001b[90m \u001b[0m ⋯\n",
       "────────┼───────────────────────────────────────────────────────────────────────\n",
       "      1 │     1      1      3      8  -0.604585  -0.690609       1  0.601468   ⋯\n",
       "      2 │     1      1      3      8  -0.604585  -0.690609       2  0.601468\n",
       "      3 │     1     89      3      6  -0.604585  -0.855096       3  0.939753\n",
       "      4 │     1     89      3      6  -0.604585  -0.855096       4  0.939753\n",
       "      5 │     1     89      3      6  -0.604585  -0.855096       5  0.939753   ⋯\n",
       "      6 │     1     89      3      6  -0.604585  -0.855096       6  0.939753\n",
       "      7 │     1     89      3      6  -0.604585  -0.855096       7  0.939753\n",
       "      8 │     1     54      3     13  -0.604585  -0.227242       8  0.966957\n",
       "      9 │     1     54      3     13  -0.604585  -0.227242       9  0.966957   ⋯\n",
       "     10 │     1     54      3     13  -0.604585  -0.227242      10  0.966957\n",
       "     11 │     2      2      1     17  -1.33518    0.0307912      1  1.05224\n",
       "   ⋮    │   ⋮      ⋮      ⋮      ⋮        ⋮          ⋮         ⋮       ⋮       ⋱\n",
       "  99991 │ 11717    283      8     26   0.604585   0.930568      10  1.29947\n",
       "  99992 │ 11718    129      2     11  -0.908458  -0.426723      10  0.865963   ⋯\n",
       "  99993 │ 11719    337      3      4  -0.604585  -1.21208       10  0.610775\n",
       "  99994 │ 11720    157      8     19   0.604585   0.182666      10  1.07988\n",
       "  99995 │ 11721    338      9     22   0.908458   0.500814      10  0.926277\n",
       "  99996 │ 11722    187      1     15  -1.33518   -0.0968453     10  1.61748    ⋯\n",
       "  99997 │ 11723     59      4     15  -0.348756  -0.0968453     10  1.61748\n",
       "  99998 │ 11724    267      7     21   0.348756   0.437853      10  1.94351\n",
       "  99999 │ 11725    209      8     15   0.604585  -0.0968453     10  1.61748\n",
       " 100000 │ 11726    356      6     28   0.114185   1.2569        10  2.54215    ⋯\n",
       "\u001b[36m                                                3 columns and 99979 rows omitted\u001b[0m"
      ]
     },
     "execution_count": 304,
     "metadata": {},
     "output_type": "execute_result"
    }
   ],
   "source": [
    "# Create panel data with wages\n",
    "tt = repeat((1:nt)',ni,1)\n",
    "df = DataFrame(i=ii[:], j=jj[:], l=ll[:], k=kk[:], α=α[ll[:]], ψ=ψ[kk[:]], t=tt[:], exp_v = exp_v[kk[:]], f=f[kk[:]], spell=spellcount[:]);\n",
    "\n",
    "# Add wages \n",
    "w_sigma = 0.2\n",
    "df[!, :lw] = df.α + df.ψ + w_sigma * rand(Normal(), size(df)[1]);\n",
    "sort!(df, [:i, :t, :k])\n"
   ]
  },
  {
   "cell_type": "markdown",
   "metadata": {},
   "source": [
    "## Recover $V_j$ and $f_j$ in Sorkin's paper"
   ]
  },
  {
   "cell_type": "markdown",
   "metadata": {},
   "source": [
    "### Step 1: identify $\\alpha$ and $\\psi$ using AKM\n",
    "\n",
    "<!-- Estimation strategy: we want to recover $\\alpha$, $\\psi$, V, and f\n",
    "1. identify $\\alpha$ and $\\psi$ using AKM. Here I decide not to pick the parameters to match the moment conditions for $\\alpha$ and $\\psi$ from Sokin's paper because we have different underlying DGP.  \n",
    "2. somehow identify f? \n",
    "3. use equations 13 and 14 from Sorkin to identify V up to scale \n",
    "4. compute correlation between V and $\\psi$  -->"
   ]
  },
  {
   "cell_type": "code",
   "execution_count": 305,
   "metadata": {},
   "outputs": [
    {
     "name": "stdout",
     "output_type": "stream",
     "text": [
      "Correlation between true and estimated ψ: 0.999\n",
      "Correlation between true and estimated α: 0.985\n"
     ]
    }
   ],
   "source": [
    "# identify α and ψ using AKM \n",
    "\n",
    "function estimation(df::DataFrame, α_hat_init, ψ_hat_init; tol = 1e-9)\n",
    "    df[!, :α_hat] .= α_hat_init\n",
    "    df[!, :ψ_hat] .= ψ_hat_init\n",
    "    mse = ones(1000);\n",
    "    df_iter = df\n",
    "    \n",
    "    for i = 2:1000\n",
    "        df_iter = @chain df_iter begin \n",
    "\n",
    "            @transform!(:α_temp = :lw - :ψ_hat)\n",
    "            groupby(:i)\n",
    "            transform!(:α_temp => mean => :α_hat) \n",
    "\n",
    "            @transform!(:ψ_temp = :lw - :α_hat)\n",
    "            groupby(:j)\n",
    "            transform!(:ψ_temp => mean => :ψ_hat) \n",
    "        end \n",
    "    \n",
    "        mse[i] = mean((df_iter.lw - df_iter.α_hat - df_iter.ψ_hat).^2)\n",
    "        if ((mse[i-1] - mse[i]) < tol)\n",
    "            break\n",
    "        end\n",
    "    end \n",
    "    return df_iter\n",
    "end\n",
    "\n",
    "α_hat_init = 0.01\n",
    "ψ_hat_init = 0.01\n",
    "\n",
    "df_iter = estimation(df, α_hat_init, ψ_hat_init)\n",
    "\n",
    "\n",
    "println(\"Correlation between true and estimated ψ: \", round(cor(df_iter.ψ, df_iter.ψ_hat), digits = 3))\n",
    "println(\"Correlation between true and estimated α: \", round(cor(df_iter.α, df_iter.α_hat), digits = 3))"
   ]
  },
  {
   "cell_type": "code",
   "execution_count": 306,
   "metadata": {},
   "outputs": [],
   "source": [
    "# # I try to follow Sean's approach here to create new firm type variable based on estimated ψ\n",
    "# df_iter = @chain df_iter begin\n",
    "#     groupby(:j)\n",
    "#     combine(:j => unique => :j, :ψ_hat => mean => :ψ_hat)\n",
    "#     @transform!(:k_new = levelcode.(cut(:ψ_hat, nk)))\n",
    "#     select!(:j, :k_new)\n",
    "#     innerjoin(df_iter, _ , on = :j)\n",
    "# end\n",
    "# DIDN'T CHANGE THE RESULT"
   ]
  },
  {
   "cell_type": "markdown",
   "metadata": {},
   "source": [
    "### Step 2 : use worker inflow and outflow to identify $V_j$ and $f_j$ \n",
    "\n",
    "#### 2.1 : worker flows \n",
    "\n",
    "1. Conditional on receiving an offer from firm j', a worker from firm j decides to move if \n",
    "$Pr(V_j < V_{j'} + \\mu) = \\frac{e^{V_{j'}}}{e^{V_j} + e^{V_{j'}}} $ where $\\mu$ is drawn from a standard logistic distribution. \n",
    "\n",
    "2. Outflow from firm j to firm j' can be represented as \n",
    "\n",
    "\\begin{equation} \n",
    "\\underbrace{M_{j'j}}_{\\text{j to j' flows}} = \\underbrace{g_j}_{\\text{# of workers in j}} \\underbrace{(1-\\kappa)}_{\\text{share of workers alive}} \\underbrace{\\lambda f_{j'} Pr(V_j < V_{j'} + \\mu)}_{\\text{get offer from j' and accept}}\n",
    "\\end{equation}\n",
    "\n",
    "Sum over all firms other than j, we can get the total outflow from j: \n",
    "\n",
    "\\begin{equation}\n",
    "M_{Ej} = g_j (1-\\kappa) \\lambda \\sum_{j'} f_{j'} Pr(V_j < V_{j'} + \\mu)\n",
    "\\end{equation}\n",
    "\n",
    "3. Inflow from firm j' to firm j can be represented as \n",
    "\n",
    "\\begin{equation} \n",
    "\\underbrace{M_{jj'}}_{\\text{j' to j flows}} = \\underbrace{g_j'}_{\\text{# of workers in j'}} \\underbrace{(1-\\kappa)}_{\\text{share of workers alive}} \\underbrace{\\lambda f_{j} Pr(V_{j'} < V_j + \\mu)}_{\\text{get offer from j and accept}}\n",
    "\\end{equation}\n",
    "\n",
    "Sum over all firms other than j, we can get the total inflow to j: \n",
    "\n",
    "\\begin{equation}\n",
    "M_{jE} = f_j (1-\\kappa) \\lambda \\sum_{j'} g_{j'} Pr(V_{j'} < V_j + \\mu)\n",
    "\\end{equation}\n",
    "\n",
    "#### 2.2 : iteration \n",
    "\n",
    "Taking $V_{j'}$ and $f_{j'}$ as given, we make an initial guess of $V_j$ and $f_j$. Then we use the total outflow equation to update $V_j$ and total inflow equation to update $f_j$. We iterate this step until the errors converge. "
   ]
  },
  {
   "cell_type": "code",
   "execution_count": 307,
   "metadata": {},
   "outputs": [
    {
     "data": {
      "text/plain": [
       "30×1 adjoint(::Matrix{Int64}) with eltype Int64:\n",
       "  27\n",
       "  45\n",
       "  59\n",
       "  68\n",
       " 115\n",
       "  72\n",
       " 108\n",
       "  95\n",
       "  86\n",
       " 118\n",
       " 167\n",
       " 172\n",
       " 221\n",
       "   ⋮\n",
       " 231\n",
       " 238\n",
       " 339\n",
       " 230\n",
       " 363\n",
       " 281\n",
       " 386\n",
       " 379\n",
       " 318\n",
       " 739\n",
       " 675\n",
       " 784"
      ]
     },
     "execution_count": 307,
     "metadata": {},
     "output_type": "execute_result"
    }
   ],
   "source": [
    "# compute number of movers from type j to type j' (aggregate over time period b/c moves are independent of time)\n",
    "\n",
    "sort!(df, [:i, :t])\n",
    "\n",
    "df_flow = @chain df begin\n",
    "    groupby(:i)\n",
    "    transform(:j => lag => :j_lag, :k => lag => :k_lag)\n",
    "    @transform!(:move = (:j .!= :j_lag) .* 1)\n",
    "    transform(:move => (x -> ifelse.(ismissing.(x), 0, x)) => :move) # deal with missing values\n",
    "\n",
    "    @subset(:move .== 1)\n",
    "    groupby([:k, :k_lag])\n",
    "    combine(:move => sum => :num_move)   \n",
    "end   \n",
    "\n",
    "\n",
    "# create inflow and outflow transition matrices for each FIRM TYPE (note that in the DGP, workers move between types, not particular firms.)\n",
    "\n",
    "flow_mat = zeros(Int, nk, nk)\n",
    "num_row = nrow(df_flow)\n",
    "\n",
    "for i in 1:num_row \n",
    "    flow_mat[df_flow.k_lag[i], df_flow.k[i]] = df_flow.num_move[i]\n",
    "end  \n",
    "\n",
    "# sum over columns to get total number of inflow and outflow for each firm TYPE\n",
    "M_Ej = sum(flow_mat, dims = 2) # total outflow\n",
    "M_jE = sum(flow_mat, dims = 1)' # total inflow\n",
    "\n"
   ]
  },
  {
   "cell_type": "code",
   "execution_count": 308,
   "metadata": {},
   "outputs": [],
   "source": [
    "# create g matrix - number of workers in each type of firms \n",
    "df_worker = @chain df begin \n",
    "    groupby(:k)\n",
    "    combine(nrow => :num_worker)\n",
    "    transform(:num_worker => (x -> x ./ sum(x)) => :share)\n",
    "end\n",
    "\n",
    "g_vec = zeros(nk, 1)\n",
    "for i in 1:nk\n",
    "    g_vec[df_worker.k[i], 1] = df_worker.share[i]\n",
    "end"
   ]
  },
  {
   "cell_type": "code",
   "execution_count": 309,
   "metadata": {},
   "outputs": [],
   "source": [
    "# create a matrix for initial guess of f_j and V_j  \n",
    "\n",
    "f_j_init = ones(Int64, nk,1) ./ nk;\n",
    "v_j_init = ones(Int64, nk,1);\n",
    "x_init = [f_j_init; v_j_init];\n",
    "\n",
    "function flow_soln(x)\n",
    "    f_j = x[1:nk]; \n",
    "    v_j = x[nk+1:end];\n",
    "    identity = sum(f_j) - 1;\n",
    "    \n",
    "    outflow_soln = M_Ej .- (1-κ) .* λ .* g_vec .* sum(f_j' .* exp.(v_j') ./ (exp.(v_j) .+ exp.(v_j')), dims = 2);\n",
    "    inflow_soln = M_jE .- (1-κ) .* λ .* f_j .* sum(g_vec' .* exp.(v_j) ./ (exp.(v_j') .+ exp.(v_j)), dims = 1)';\n",
    "    \n",
    "    norm_M_Ej = M_Ej ./ M_Ej[1]; \n",
    "    norm_M_jE = M_jE ./ M_jE[1]; \n",
    "    RHS_outflow = g_vec .* sum(f_j' .* exp.(v_j') ./ (exp.(v_j) .+ exp.(v_j')), dims = 2);\n",
    "    norm_RHS_outflow = RHS_outflow ./ RHS_outflow[1];\n",
    "    \n",
    "    RHS_inflow = f_j .* sum(g_vec' .* exp.(v_j) ./ (exp.(v_j') .+ exp.(v_j)), dims = 1)';\n",
    "    norm_RHS_inflow = RHS_inflow ./ RHS_inflow[1]; \n",
    "    \n",
    "    outflow_soln = norm_M_Ej[1:end-1] .- norm_RHS_outflow[1:end-1]; \n",
    "    inflow_soln = norm_M_jE .- norm_RHS_inflow;\n",
    "    return[identity; outflow_soln; inflow_soln]\n",
    "end\n",
    "\n",
    "x_soln = nlsolve(flow_soln, x_init);\n",
    "f_soln = x_soln.zero[1:nk];\n",
    "V_soln = x_soln.zero[nk+1:end];\n"
   ]
  },
  {
   "cell_type": "code",
   "execution_count": 310,
   "metadata": {},
   "outputs": [
    {
     "data": {
      "text/plain": [
       "0.5676686863878878"
      ]
     },
     "execution_count": 310,
     "metadata": {},
     "output_type": "execute_result"
    }
   ],
   "source": [
    "plot(1:nk, f_soln, label = \"Estimated offer distribution\")\n",
    "plot!(1:nk, f, label = \"Actual offer distribution\")\n",
    "cor(f, f_soln)\n",
    "# cor(v, V_soln)"
   ]
  },
  {
   "cell_type": "code",
   "execution_count": 33,
   "metadata": {},
   "outputs": [
    {
     "name": "stdout",
     "output_type": "stream",
     "text": [
      "Estimated death rate is 0.021\n"
     ]
    }
   ],
   "source": [
    "# estimate death rate as the share of new workers entering the sample in each period \n",
    "\n",
    "death_rate = @chain df begin \n",
    "    groupby(:i)\n",
    "    transform!(:t => minimum => :t_min)\n",
    "    @transform(:new_worker = (:t_min .> 1).*(:t .== :t_min ))\n",
    "    groupby(:t)\n",
    "    combine(:new_worker => mean => :new_worker_mean)\n",
    "    @subset(:t.!=1)\n",
    "    mean(_.new_worker_mean)\n",
    "end \n",
    "death_rate\n",
    "println(\"Estimated death rate is \", round(death_rate, digits = 3))"
   ]
  }
 ],
 "metadata": {
  "kernelspec": {
   "display_name": "Julia 1.6.3",
   "language": "julia",
   "name": "julia-1.6"
  },
  "language_info": {
   "file_extension": ".jl",
   "mimetype": "application/julia",
   "name": "julia",
   "version": "1.6.3"
  },
  "toc": {
   "base_numbering": 1,
   "nav_menu": {},
   "number_sections": true,
   "sideBar": true,
   "skip_h1_title": false,
   "title_cell": "Table of Contents",
   "title_sidebar": "Contents",
   "toc_cell": false,
   "toc_position": {},
   "toc_section_display": true,
   "toc_window_display": false
  }
 },
 "nbformat": 4,
 "nbformat_minor": 4
}
